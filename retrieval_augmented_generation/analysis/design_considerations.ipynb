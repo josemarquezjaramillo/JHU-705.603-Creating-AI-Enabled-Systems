{
 "cells": [
  {
   "cell_type": "markdown",
   "metadata": {},
   "source": [
    "## Design Decisions\n",
    "### Design Decision 1: **Sentence Chunking (`sentences_per_chunk`)**\n",
    "**Service Area**: Extraction Service\n",
    "\n",
    "**Significance**:\n",
    "The `sentences_per_chunk` parameter determines how the documents in the corpus are divided into chunks of sentences. This design decision is crucial because it directly impacts the granularity of the text that is encoded into embeddings. Smaller chunks can provide more fine-grained context retrieval but may lose broader contextual information. Larger chunks may capture more context but could dilute the relevance of specific information.\n",
    "\n",
    "**Analysis Plan**:\n",
    "To analyze the impact of different chunk sizes, I would:\n",
    "1. Experiment with varying values of `sentences_per_chunk` (e.g., 1, 3, 5, 10).\n",
    "2. Measure retrieval performance using metrics like precision, recall, and F1-score on a validation set.\n",
    "3. Evaluate the trade-offs between the granularity of the retrieved information and the overall retrieval relevance.\n",
    "4. Conduct user testing to determine which chunk size provides the most useful responses in real-world scenarios.\n",
    "\n",
    "**Expected Outcome**:\n",
    "I expect that there will be an optimal chunk size that balances the need for detailed information with the need to maintain meaningful context. The analysis will guide the selection of this optimal value.\n",
    "\n",
    "---\n",
    "\n",
    "### Design Decision 2: **Top-k Retrieval (`top_k`)**\n",
    "**Service Area**: Retrieval Service\n",
    "\n",
    "**Significance**:\n",
    "The `top_k` parameter defines how many of the most relevant context chunks are retrieved for a given question. This is a critical design decision because retrieving too few chunks might miss important context, while retrieving too many might include irrelevant information, increasing computational overhead and potentially confusing the generator model.\n",
    "\n",
    "**Analysis Plan**:\n",
    "To analyze the impact of different values for `top_k`, I would:\n",
    "1. Experiment with various values of `top_k` (e.g., 3, 5, 10, 20).\n",
    "2. Measure the performance of the generated answers using evaluation metrics like accuracy and relevance scores.\n",
    "3. Assess the balance between retrieval precision and the richness of context provided.\n",
    "4. Analyze the computational cost associated with different values of `top_k`.\n",
    "\n",
    "**Expected Outcome**:\n",
    "I expect to find an optimal range for `top_k` that maximizes the accuracy and relevance of the generated answers while minimizing unnecessary computational effort.\n",
    "\n",
    "---\n",
    "\n",
    "### Design Decision 3: **Embedding Model Choice**\n",
    "**Service Area**: Extraction Service\n",
    "\n",
    "**Significance**:\n",
    "The choice of the embedding model (e.g., `all-MiniLM-L6-v2`) is foundational to the entire pipeline, as it determines how text is represented in the embedding space. Different models may capture different nuances of the language, affecting the accuracy of retrieval and the quality of generated answers.\n",
    "\n",
    "**Analysis Plan**:\n",
    "To analyze the impact of different embedding models, I would:\n",
    "1. Compare multiple pre-trained models (e.g., BERT variants, Sentence Transformers).\n",
    "2. Evaluate their performance on encoding the corpus by measuring retrieval effectiveness (using MRR, precision, recall) and answer quality.\n",
    "3. Conduct ablation studies to determine how each model affects the downstream tasks in the pipeline.\n",
    "4. Consider computational efficiency, as some models may require more resources.\n",
    "\n",
    "**Expected Outcome**:\n",
    "I anticipate that a model with a good balance between contextual understanding and computational efficiency will be identified, leading to better overall performance in retrieval and generation tasks.\n",
    "\n",
    "---\n",
    "\n",
    "### Design Decision 4: **KDTree for Efficient Retrieval**\n",
    "**Service Area**: Retrieval Service\n",
    "\n",
    "**Significance**:\n",
    "The use of a KDTree for efficient nearest neighbor search is a key design choice that affects the system's scalability and speed. As the number of documents grows, the retrieval process needs to remain efficient. The KDTree structure helps in quickly locating the most relevant chunks, but its effectiveness depends on the embedding dimensionality and the number of stored embeddings.\n",
    "\n",
    "**Analysis Plan**:\n",
    "To analyze the effectiveness of using a KDTree, I would:\n",
    "1. Measure the retrieval speed and accuracy as the size of the corpus increases.\n",
    "2. Compare the performance of KDTree against other retrieval structures (e.g., brute-force search, approximate nearest neighbor methods).\n",
    "3. Evaluate how the dimensionality (`k`) of the embeddings affects KDTree's performance in terms of speed and retrieval accuracy.\n",
    "\n",
    "**Expected Outcome**:\n",
    "I expect that the KDTree will provide efficient retrieval with acceptable accuracy for moderate-sized datasets. However, if the corpus grows significantly, alternative retrieval strategies may be necessary to maintain performance.\n",
    "\n",
    "---\n",
    "\n",
    "### Design Decision 5: **Context and Answer Generation Quality**\n",
    "**Service Area**: Generator Service\n",
    "\n",
    "**Significance**:\n",
    "The quality of the generated answers is paramount for the system's success. This depends on how well the context retrieved by the KDTree is used by the BERT model to generate relevant and accurate answers. The BERT model must effectively utilize the provided context to deliver answers that are not only accurate but also contextually rich.\n",
    "\n",
    "**Analysis Plan**:\n",
    "To analyze the generation quality, I would:\n",
    "1. Measure the relevance and correctness of generated answers using metrics like BLEU, ROUGE, and human evaluations.\n",
    "2. Experiment with different strategies for combining and formatting the retrieved context before feeding it to the BERT model.\n",
    "3. Analyze how different values of `top_k` and `sentences_per_chunk` impact the quality of the generated answers.\n",
    "4. Conduct user satisfaction surveys to gather qualitative feedback on the system's output.\n",
    "\n",
    "**Expected Outcome**:\n",
    "I anticipate that optimizing the combination of retrieved contexts will lead to significant improvements in the quality of generated answers. This will likely involve fine-tuning the BERT model and adjusting how context is provided to the model."
   ]
  },
  {
   "cell_type": "markdown",
   "metadata": {},
   "source": [
    "## In Depth Analysis of Two Design Decisions"
   ]
  },
  {
   "cell_type": "markdown",
   "metadata": {},
   "source": []
  },
  {
   "cell_type": "code",
   "execution_count": 1,
   "metadata": {},
   "outputs": [
    {
     "name": "stderr",
     "output_type": "stream",
     "text": [
      "c:\\Users\\josem\\Desktop\\JHU\\705.603 - Creating AI Enabled-Systems\\Assignments\\marquezjaramillo-jose\\visual_search_system\\vs_venv\\lib\\site-packages\\sentence_transformers\\cross_encoder\\CrossEncoder.py:11: TqdmWarning: IProgress not found. Please update jupyter and ipywidgets. See https://ipywidgets.readthedocs.io/en/stable/user_install.html\n",
      "  from tqdm.autonotebook import tqdm, trange\n"
     ]
    },
    {
     "name": "stdout",
     "output_type": "stream",
     "text": [
      "c:\\Users\\josem\\Desktop\\JHU\\705.603 - Creating AI Enabled-Systems\\Assignments\\marquezjaramillo-jose\\retrieval_augmented_generation\n"
     ]
    }
   ],
   "source": [
    "import sys\n",
    "sys.path.append('../')\n",
    "import os\n",
    "import shutil\n",
    "import csv\n",
    "import pandas as pd\n",
    "from tqdm import tqdm\n",
    "from pipeline import Pipeline\n",
    "import matplotlib.pyplot as plt\n",
    "\n",
    "os.chdir('../')\n",
    "print(os.getcwd())\n",
    "\n",
    "import warnings \n",
    "warnings.filterwarnings('ignore') \n",
    "\n",
    "# Path to the CSV file\n",
    "csv_file_path = \"qa_resources/questions.csv\"\n",
    "\n",
    "# Read the CSV file and prepare the data for the /evaluate endpoint\n",
    "questions_data = []\n",
    "with open(csv_file_path, newline='', encoding='utf-8') as csvfile:\n",
    "    reader = csv.DictReader(csvfile, delimiter='\\t')\n",
    "    for row in reader:\n",
    "        question = row['Question']\n",
    "        answer = row['Answer']\n",
    "        if question and answer:\n",
    "            questions_data.append({\n",
    "                \"question\": question,\n",
    "                \"ground_truth\": answer\n",
    "            })"
   ]
  },
  {
   "cell_type": "code",
   "execution_count": 2,
   "metadata": {},
   "outputs": [],
   "source": [
    "# Step 1: Empty the `storage/embeddings` directory\n",
    "def clear_embeddings_directory(embeddings_dir='storage/embeddings'):\n",
    "    print('Clearing embeddings')\n",
    "    if os.path.exists(embeddings_dir):\n",
    "        shutil.rmtree(embeddings_dir)  # Remove the directory and all its contents\n",
    "        os.makedirs(embeddings_dir)  # Recreate the directory\n",
    "    else:\n",
    "        os.makedirs(embeddings_dir)  # Create the directory if it doesn't exist\n",
    "    print('Embeddings cleared')\n",
    "\n",
    "# Step 2: Initialize a new Pipeline\n",
    "def initialize_pipeline(**kwargs):\n",
    "    pipeline = Pipeline(**kwargs)\n",
    "    print(f'Pipeline initiated with {kwargs}')\n",
    "    return pipeline\n",
    "\n",
    "# Step 3: Evaluate a series of questions\n",
    "def evaluate_questions(pipeline, questions):\n",
    "    results = []\n",
    "\n",
    "    for q in tqdm(questions, desc='Questions'):\n",
    "        question = q['question']\n",
    "        ground_truth = q['ground_truth']\n",
    "        ground_truth, model_answer, score, match_result = pipeline.evaluate_question(question, ground_truth)\n",
    "        results.append({\n",
    "            'Question': question,\n",
    "            'Ground Truth': ground_truth,\n",
    "            'Model Answer': model_answer,\n",
    "            'Score': score,\n",
    "            'Match Result': match_result\n",
    "        })\n",
    "\n",
    "    return results\n",
    "\n",
    "# Step 4: Iterate over different parameters\n",
    "def iterate_over_parameters(params: dict[list]):\n",
    "    results = None\n",
    "    param = list(params.keys())[0]\n",
    "    param_values = params[param]\n",
    "    for k in param_values:\n",
    "        print(f\"\\n\\n Evaluating for {param}={k}\")\n",
    "        clear_embeddings_directory()\n",
    "        pipeline = initialize_pipeline(**{param:k})\n",
    "        result = pd.DataFrame(evaluate_questions(pipeline, questions_data))  \n",
    "        result[param]=k\n",
    "        if results is None:\n",
    "            results = result\n",
    "        else:\n",
    "            results = pd.concat([results, result])\n",
    "    return results"
   ]
  },
  {
   "cell_type": "code",
   "execution_count": 3,
   "metadata": {},
   "outputs": [],
   "source": [
    "def plot_results(results, params):\n",
    "    df = results.copy()\n",
    "    param = list(params.keys())[0]\n",
    "    match_result_percentage = df.groupby(param)['Match Result'].sum() \n",
    "\n",
    "    # Group by 'top_k' and calculate the average 'Score'\n",
    "    average_score = df.groupby(param)['Score'].mean()\n",
    "\n",
    "    # Create the plots\n",
    "    fig, axes = plt.subplots(nrows=1, ncols=2, figsize=(14, 6))\n",
    "\n",
    "    # Plot the Match Result percentages\n",
    "    match_result_percentage.plot(kind='bar', ax=axes[0], color='skyblue', edgecolor='black')\n",
    "    axes[0].set_title(f'True Match Results by {param}')\n",
    "    axes[0].set_xlabel(param)\n",
    "    axes[0].set_ylabel('Number of True')\n",
    "    axes[0].set_ylim(0, len(questions_data))\n",
    "\n",
    "    # Plot the Average Score\n",
    "    average_score.plot(kind='bar', ax=axes[1], color='salmon', edgecolor='black')\n",
    "    axes[1].set_title(f'Average Score by {param}')\n",
    "    axes[1].set_xlabel(param)\n",
    "    axes[1].set_ylabel('Average Score')\n",
    "    axes[1].set_ylim(0, 1)\n",
    "\n",
    "    # Adjust layout\n",
    "    plt.tight_layout()\n",
    "\n",
    "    plt.show()"
   ]
  },
  {
   "cell_type": "markdown",
   "metadata": {},
   "source": [
    "### Detailed Analysis of Sentence Chunking Results"
   ]
  },
  {
   "cell_type": "code",
   "execution_count": 4,
   "metadata": {},
   "outputs": [
    {
     "name": "stdout",
     "output_type": "stream",
     "text": [
      "\n",
      "\n",
      " Evaluating for sentences_per_chunk=1\n",
      "Clearing embeddings\n",
      "Embeddings cleared\n"
     ]
    },
    {
     "name": "stderr",
     "output_type": "stream",
     "text": [
      "Some weights of the model checkpoint at bert-large-uncased-whole-word-masking-finetuned-squad were not used when initializing BertForQuestionAnswering: ['bert.pooler.dense.bias', 'bert.pooler.dense.weight']\n",
      "- This IS expected if you are initializing BertForQuestionAnswering from the checkpoint of a model trained on another task or with another architecture (e.g. initializing a BertForSequenceClassification model from a BertForPreTraining model).\n",
      "- This IS NOT expected if you are initializing BertForQuestionAnswering from the checkpoint of a model that you expect to be exactly identical (initializing a BertForSequenceClassification model from a BertForSequenceClassification model).\n"
     ]
    },
    {
     "name": "stdout",
     "output_type": "stream",
     "text": [
      "Using device: cuda\n",
      "Pipeline initiated with {'sentences_per_chunk': 1}\n"
     ]
    },
    {
     "name": "stderr",
     "output_type": "stream",
     "text": [
      "Questions: 100%|██████████| 109/109 [00:56<00:00,  1.93it/s]\n"
     ]
    },
    {
     "name": "stdout",
     "output_type": "stream",
     "text": [
      "\n",
      "\n",
      " Evaluating for sentences_per_chunk=2\n",
      "Clearing embeddings\n",
      "Embeddings cleared\n"
     ]
    },
    {
     "name": "stderr",
     "output_type": "stream",
     "text": [
      "Some weights of the model checkpoint at bert-large-uncased-whole-word-masking-finetuned-squad were not used when initializing BertForQuestionAnswering: ['bert.pooler.dense.bias', 'bert.pooler.dense.weight']\n",
      "- This IS expected if you are initializing BertForQuestionAnswering from the checkpoint of a model trained on another task or with another architecture (e.g. initializing a BertForSequenceClassification model from a BertForPreTraining model).\n",
      "- This IS NOT expected if you are initializing BertForQuestionAnswering from the checkpoint of a model that you expect to be exactly identical (initializing a BertForSequenceClassification model from a BertForSequenceClassification model).\n"
     ]
    },
    {
     "name": "stdout",
     "output_type": "stream",
     "text": [
      "Using device: cuda\n",
      "Pipeline initiated with {'sentences_per_chunk': 2}\n"
     ]
    },
    {
     "name": "stderr",
     "output_type": "stream",
     "text": [
      "Questions: 100%|██████████| 109/109 [01:19<00:00,  1.37it/s]\n"
     ]
    },
    {
     "name": "stdout",
     "output_type": "stream",
     "text": [
      "\n",
      "\n",
      " Evaluating for sentences_per_chunk=3\n",
      "Clearing embeddings\n",
      "Embeddings cleared\n"
     ]
    },
    {
     "name": "stderr",
     "output_type": "stream",
     "text": [
      "Some weights of the model checkpoint at bert-large-uncased-whole-word-masking-finetuned-squad were not used when initializing BertForQuestionAnswering: ['bert.pooler.dense.bias', 'bert.pooler.dense.weight']\n",
      "- This IS expected if you are initializing BertForQuestionAnswering from the checkpoint of a model trained on another task or with another architecture (e.g. initializing a BertForSequenceClassification model from a BertForPreTraining model).\n",
      "- This IS NOT expected if you are initializing BertForQuestionAnswering from the checkpoint of a model that you expect to be exactly identical (initializing a BertForSequenceClassification model from a BertForSequenceClassification model).\n"
     ]
    },
    {
     "name": "stdout",
     "output_type": "stream",
     "text": [
      "Using device: cuda\n",
      "Pipeline initiated with {'sentences_per_chunk': 3}\n"
     ]
    },
    {
     "name": "stderr",
     "output_type": "stream",
     "text": [
      "Questions: 100%|██████████| 109/109 [01:38<00:00,  1.11it/s]\n"
     ]
    },
    {
     "name": "stdout",
     "output_type": "stream",
     "text": [
      "\n",
      "\n",
      " Evaluating for sentences_per_chunk=5\n",
      "Clearing embeddings\n",
      "Embeddings cleared\n"
     ]
    },
    {
     "name": "stderr",
     "output_type": "stream",
     "text": [
      "Some weights of the model checkpoint at bert-large-uncased-whole-word-masking-finetuned-squad were not used when initializing BertForQuestionAnswering: ['bert.pooler.dense.bias', 'bert.pooler.dense.weight']\n",
      "- This IS expected if you are initializing BertForQuestionAnswering from the checkpoint of a model trained on another task or with another architecture (e.g. initializing a BertForSequenceClassification model from a BertForPreTraining model).\n",
      "- This IS NOT expected if you are initializing BertForQuestionAnswering from the checkpoint of a model that you expect to be exactly identical (initializing a BertForSequenceClassification model from a BertForSequenceClassification model).\n"
     ]
    },
    {
     "name": "stdout",
     "output_type": "stream",
     "text": [
      "Using device: cuda\n",
      "Pipeline initiated with {'sentences_per_chunk': 5}\n"
     ]
    },
    {
     "name": "stderr",
     "output_type": "stream",
     "text": [
      "Questions:   7%|▋         | 8/109 [00:10<02:09,  1.28s/it]Be aware, overflowing tokens are not returned for the setting you have chosen, i.e. sequence pairs with the 'longest_first' truncation strategy. So the returned list will always be empty even if some tokens have been removed.\n",
      "Questions:   8%|▊         | 9/109 [00:12<02:14,  1.34s/it]Be aware, overflowing tokens are not returned for the setting you have chosen, i.e. sequence pairs with the 'longest_first' truncation strategy. So the returned list will always be empty even if some tokens have been removed.\n",
      "Questions:  15%|█▍        | 16/109 [00:21<02:05,  1.35s/it]Be aware, overflowing tokens are not returned for the setting you have chosen, i.e. sequence pairs with the 'longest_first' truncation strategy. So the returned list will always be empty even if some tokens have been removed.\n",
      "Questions:  16%|█▌        | 17/109 [00:23<02:15,  1.47s/it]Be aware, overflowing tokens are not returned for the setting you have chosen, i.e. sequence pairs with the 'longest_first' truncation strategy. So the returned list will always be empty even if some tokens have been removed.\n",
      "Questions:  17%|█▋        | 18/109 [00:24<02:14,  1.48s/it]Be aware, overflowing tokens are not returned for the setting you have chosen, i.e. sequence pairs with the 'longest_first' truncation strategy. So the returned list will always be empty even if some tokens have been removed.\n",
      "Questions:  17%|█▋        | 19/109 [00:26<02:16,  1.52s/it]Be aware, overflowing tokens are not returned for the setting you have chosen, i.e. sequence pairs with the 'longest_first' truncation strategy. So the returned list will always be empty even if some tokens have been removed.\n",
      "Questions:  18%|█▊        | 20/109 [00:27<02:16,  1.53s/it]Be aware, overflowing tokens are not returned for the setting you have chosen, i.e. sequence pairs with the 'longest_first' truncation strategy. So the returned list will always be empty even if some tokens have been removed.\n",
      "Questions:  19%|█▉        | 21/109 [00:29<02:15,  1.54s/it]Be aware, overflowing tokens are not returned for the setting you have chosen, i.e. sequence pairs with the 'longest_first' truncation strategy. So the returned list will always be empty even if some tokens have been removed.\n",
      "Questions:  24%|██▍       | 26/109 [00:36<01:47,  1.30s/it]Be aware, overflowing tokens are not returned for the setting you have chosen, i.e. sequence pairs with the 'longest_first' truncation strategy. So the returned list will always be empty even if some tokens have been removed.\n",
      "Questions:  25%|██▍       | 27/109 [00:37<01:51,  1.36s/it]Be aware, overflowing tokens are not returned for the setting you have chosen, i.e. sequence pairs with the 'longest_first' truncation strategy. So the returned list will always be empty even if some tokens have been removed.\n",
      "Questions:  28%|██▊       | 30/109 [00:41<01:39,  1.26s/it]Be aware, overflowing tokens are not returned for the setting you have chosen, i.e. sequence pairs with the 'longest_first' truncation strategy. So the returned list will always be empty even if some tokens have been removed.\n",
      "Questions:  28%|██▊       | 31/109 [00:43<01:49,  1.40s/it]Be aware, overflowing tokens are not returned for the setting you have chosen, i.e. sequence pairs with the 'longest_first' truncation strategy. So the returned list will always be empty even if some tokens have been removed.\n",
      "Questions:  37%|███▋      | 40/109 [00:55<01:35,  1.38s/it]Be aware, overflowing tokens are not returned for the setting you have chosen, i.e. sequence pairs with the 'longest_first' truncation strategy. So the returned list will always be empty even if some tokens have been removed.\n",
      "Questions:  38%|███▊      | 41/109 [00:56<01:38,  1.45s/it]Be aware, overflowing tokens are not returned for the setting you have chosen, i.e. sequence pairs with the 'longest_first' truncation strategy. So the returned list will always be empty even if some tokens have been removed.\n",
      "Questions:  96%|█████████▋| 105/109 [02:25<00:05,  1.32s/it]Be aware, overflowing tokens are not returned for the setting you have chosen, i.e. sequence pairs with the 'longest_first' truncation strategy. So the returned list will always be empty even if some tokens have been removed.\n",
      "Questions: 100%|██████████| 109/109 [02:30<00:00,  1.38s/it]\n"
     ]
    }
   ],
   "source": [
    "params = {'sentences_per_chunk':[1, 2, 3, 5]}\n",
    "sentences_per_chunk_results = iterate_over_parameters(params)"
   ]
  },
  {
   "cell_type": "code",
   "execution_count": 5,
   "metadata": {},
   "outputs": [
    {
     "data": {
      "image/png": "[encoded data removed]",
      "text/plain": [
       "<Figure size 1400x600 with 2 Axes>"
      ]
     },
     "metadata": {},
     "output_type": "display_data"
    }
   ],
   "source": [
    "plot_results(sentences_per_chunk_results, params)"
   ]
  },
  {
   "cell_type": "code",
   "execution_count": 9,
   "metadata": {},
   "outputs": [
    {
     "data": {
      "text/html": [
       "<div>\n",
       "<style scoped>\n",
       "    .dataframe tbody tr th:only-of-type {\n",
       "        vertical-align: middle;\n",
       "    }\n",
       "\n",
       "    .dataframe tbody tr th {\n",
       "        vertical-align: top;\n",
       "    }\n",
       "\n",
       "    .dataframe thead tr th {\n",
       "        text-align: left;\n",
       "    }\n",
       "</style>\n",
       "<table border=\"1\" class=\"dataframe\">\n",
       "  <thead>\n",
       "    <tr>\n",
       "      <th></th>\n",
       "      <th>sentences_per_chunk</th>\n",
       "      <th colspan=\"2\" halign=\"left\">Match Result</th>\n",
       "      <th colspan=\"2\" halign=\"left\">Score</th>\n",
       "    </tr>\n",
       "    <tr>\n",
       "      <th></th>\n",
       "      <th></th>\n",
       "      <th>sum</th>\n",
       "      <th>mean</th>\n",
       "      <th>sum</th>\n",
       "      <th>mean</th>\n",
       "    </tr>\n",
       "  </thead>\n",
       "  <tbody>\n",
       "    <tr>\n",
       "      <th>0</th>\n",
       "      <td>1</td>\n",
       "      <td>46</td>\n",
       "      <td>0.422018</td>\n",
       "      <td>47.891265</td>\n",
       "      <td>0.439369</td>\n",
       "    </tr>\n",
       "    <tr>\n",
       "      <th>1</th>\n",
       "      <td>2</td>\n",
       "      <td>44</td>\n",
       "      <td>0.403670</td>\n",
       "      <td>45.343510</td>\n",
       "      <td>0.415996</td>\n",
       "    </tr>\n",
       "    <tr>\n",
       "      <th>2</th>\n",
       "      <td>3</td>\n",
       "      <td>43</td>\n",
       "      <td>0.394495</td>\n",
       "      <td>44.618983</td>\n",
       "      <td>0.409348</td>\n",
       "    </tr>\n",
       "    <tr>\n",
       "      <th>3</th>\n",
       "      <td>5</td>\n",
       "      <td>37</td>\n",
       "      <td>0.339450</td>\n",
       "      <td>40.195414</td>\n",
       "      <td>0.368765</td>\n",
       "    </tr>\n",
       "  </tbody>\n",
       "</table>\n",
       "</div>"
      ],
      "text/plain": [
       "  sentences_per_chunk Match Result                Score          \n",
       "                               sum      mean        sum      mean\n",
       "0                   1           46  0.422018  47.891265  0.439369\n",
       "1                   2           44  0.403670  45.343510  0.415996\n",
       "2                   3           43  0.394495  44.618983  0.409348\n",
       "3                   5           37  0.339450  40.195414  0.368765"
      ]
     },
     "execution_count": 9,
     "metadata": {},
     "output_type": "execute_result"
    }
   ],
   "source": [
    "sentences_per_chunk_results.groupby('sentences_per_chunk')[['Match Result','Score']].agg(['sum','mean']).reset_index()"
   ]
  },
  {
   "cell_type": "markdown",
   "metadata": {},
   "source": [
    "#### General Results\n",
    "- As the number of sentences per chunk increases, both the `Match Result` (mean) and `Score` (mean) decrease. This trend suggests that smaller chunks (i.e., fewer sentences per chunk) lead to better performance in terms of both matching the correct answer and the overall score.\n",
    "- The `sentences_per_chunk = 1` configuration yields the highest `Match Result` (mean = 0.422018) and `Score` (mean = 0.439369). This suggests that when the system retrieves and considers smaller text fragments, it can better isolate and identify the most relevant information for answering the question.\n",
    "- Intuitively, this makes sense because with smaller chunks, the embeddings are likely to capture more specific information. The system can piece together the most relevant bits of context without being diluted by additional, potentially less relevant sentences.\n",
    "- As the chunk size increases to `2`, `3`, and especially `5` sentences, the `Match Result` and `Score` decrease steadily. This indicates that larger chunks might introduce noise or less relevant information, diluting the embedding's ability to capture precise and relevant context. \n",
    "- With larger chunks, the embeddings represent a broader context. While this broader context might be beneficial in some cases, it seems that in this specific system, it leads to less precise matches, likely because the model struggles to identify the most relevant parts of the context when they are embedded within larger blocks of text.\n",
    "#### Possible Intuition\n",
    "- Smaller chunks allow the system to operate with higher granularity. Each chunk is likely to contain highly relevant information, allowing the retrieval system to isolate the most pertinent details that directly answer the question. This increases the precision of the retrieval process.\n",
    "- Larger chunks may include a mix of relevant and irrelevant information. When such chunks are retrieved, the model's task becomes more challenging as it has to discern the most relevant part from a larger set of data. This increases the cognitive load on the model, leading to less accurate answers.\n",
    "- While broader context can sometimes be beneficial, it appears that in this scenario, the balance tips in favor of specificity over context. This might indicate that the questions being asked rely more on specific facts or pieces of information that are better captured in smaller text units.\n",
    "\n",
    "#### Conclusions\n",
    "The analysis suggests that using smaller chunks (1 sentence per chunk) provides the best balance between specificity and relevance, leading to higher match results and scores. As the chunk size increases, the performance degrades, likely due to the introduction of noise and less precise contextual information. This insight can inform future adjustments to the system, such as choosing a chunk size of 1 sentence for the best overall performance in this retrieval-augmented generation pipeline."
   ]
  },
  {
   "cell_type": "markdown",
   "metadata": {},
   "source": [
    "### Detailed Analysis of Top-k Retrieval Results"
   ]
  },
  {
   "cell_type": "code",
   "execution_count": 6,
   "metadata": {},
   "outputs": [
    {
     "name": "stdout",
     "output_type": "stream",
     "text": [
      "\n",
      "\n",
      " Evaluating for top_k=1\n",
      "Clearing embeddings\n",
      "Embeddings cleared\n"
     ]
    },
    {
     "name": "stderr",
     "output_type": "stream",
     "text": [
      "Some weights of the model checkpoint at bert-large-uncased-whole-word-masking-finetuned-squad were not used when initializing BertForQuestionAnswering: ['bert.pooler.dense.bias', 'bert.pooler.dense.weight']\n",
      "- This IS expected if you are initializing BertForQuestionAnswering from the checkpoint of a model trained on another task or with another architecture (e.g. initializing a BertForSequenceClassification model from a BertForPreTraining model).\n",
      "- This IS NOT expected if you are initializing BertForQuestionAnswering from the checkpoint of a model that you expect to be exactly identical (initializing a BertForSequenceClassification model from a BertForSequenceClassification model).\n"
     ]
    },
    {
     "name": "stdout",
     "output_type": "stream",
     "text": [
      "Using device: cuda\n",
      "Pipeline initiated with {'top_k': 1}\n"
     ]
    },
    {
     "name": "stderr",
     "output_type": "stream",
     "text": [
      "Questions: 100%|██████████| 109/109 [00:45<00:00,  2.41it/s]\n"
     ]
    },
    {
     "name": "stdout",
     "output_type": "stream",
     "text": [
      "\n",
      "\n",
      " Evaluating for top_k=2\n",
      "Clearing embeddings\n",
      "Embeddings cleared\n"
     ]
    },
    {
     "name": "stderr",
     "output_type": "stream",
     "text": [
      "Some weights of the model checkpoint at bert-large-uncased-whole-word-masking-finetuned-squad were not used when initializing BertForQuestionAnswering: ['bert.pooler.dense.bias', 'bert.pooler.dense.weight']\n",
      "- This IS expected if you are initializing BertForQuestionAnswering from the checkpoint of a model trained on another task or with another architecture (e.g. initializing a BertForSequenceClassification model from a BertForPreTraining model).\n",
      "- This IS NOT expected if you are initializing BertForQuestionAnswering from the checkpoint of a model that you expect to be exactly identical (initializing a BertForSequenceClassification model from a BertForSequenceClassification model).\n"
     ]
    },
    {
     "name": "stdout",
     "output_type": "stream",
     "text": [
      "Using device: cuda\n",
      "Pipeline initiated with {'top_k': 2}\n"
     ]
    },
    {
     "name": "stderr",
     "output_type": "stream",
     "text": [
      "Questions: 100%|██████████| 109/109 [01:01<00:00,  1.78it/s]\n"
     ]
    },
    {
     "name": "stdout",
     "output_type": "stream",
     "text": [
      "\n",
      "\n",
      " Evaluating for top_k=3\n",
      "Clearing embeddings\n",
      "Embeddings cleared\n"
     ]
    },
    {
     "name": "stderr",
     "output_type": "stream",
     "text": [
      "Some weights of the model checkpoint at bert-large-uncased-whole-word-masking-finetuned-squad were not used when initializing BertForQuestionAnswering: ['bert.pooler.dense.bias', 'bert.pooler.dense.weight']\n",
      "- This IS expected if you are initializing BertForQuestionAnswering from the checkpoint of a model trained on another task or with another architecture (e.g. initializing a BertForSequenceClassification model from a BertForPreTraining model).\n",
      "- This IS NOT expected if you are initializing BertForQuestionAnswering from the checkpoint of a model that you expect to be exactly identical (initializing a BertForSequenceClassification model from a BertForSequenceClassification model).\n"
     ]
    },
    {
     "name": "stdout",
     "output_type": "stream",
     "text": [
      "Using device: cuda\n",
      "Pipeline initiated with {'top_k': 3}\n"
     ]
    },
    {
     "name": "stderr",
     "output_type": "stream",
     "text": [
      "Questions: 100%|██████████| 109/109 [01:16<00:00,  1.42it/s]\n"
     ]
    },
    {
     "name": "stdout",
     "output_type": "stream",
     "text": [
      "\n",
      "\n",
      " Evaluating for top_k=5\n",
      "Clearing embeddings\n",
      "Embeddings cleared\n"
     ]
    },
    {
     "name": "stderr",
     "output_type": "stream",
     "text": [
      "Some weights of the model checkpoint at bert-large-uncased-whole-word-masking-finetuned-squad were not used when initializing BertForQuestionAnswering: ['bert.pooler.dense.bias', 'bert.pooler.dense.weight']\n",
      "- This IS expected if you are initializing BertForQuestionAnswering from the checkpoint of a model trained on another task or with another architecture (e.g. initializing a BertForSequenceClassification model from a BertForPreTraining model).\n",
      "- This IS NOT expected if you are initializing BertForQuestionAnswering from the checkpoint of a model that you expect to be exactly identical (initializing a BertForSequenceClassification model from a BertForSequenceClassification model).\n"
     ]
    },
    {
     "name": "stdout",
     "output_type": "stream",
     "text": [
      "Using device: cuda\n",
      "Pipeline initiated with {'top_k': 5}\n"
     ]
    },
    {
     "name": "stderr",
     "output_type": "stream",
     "text": [
      "Questions: 100%|██████████| 109/109 [01:49<00:00,  1.00s/it]\n"
     ]
    }
   ],
   "source": [
    "params = {'top_k':[1,2,3,5]}\n",
    "top_k_results = iterate_over_parameters(params)"
   ]
  },
  {
   "cell_type": "code",
   "execution_count": 7,
   "metadata": {},
   "outputs": [
    {
     "data": {
      "image/png": "[encoded data removed]",
      "text/plain": [
       "<Figure size 1400x600 with 2 Axes>"
      ]
     },
     "metadata": {},
     "output_type": "display_data"
    }
   ],
   "source": [
    "plot_results(top_k_results, params)"
   ]
  },
  {
   "cell_type": "code",
   "execution_count": 11,
   "metadata": {},
   "outputs": [
    {
     "data": {
      "text/html": [
       "<div>\n",
       "<style scoped>\n",
       "    .dataframe tbody tr th:only-of-type {\n",
       "        vertical-align: middle;\n",
       "    }\n",
       "\n",
       "    .dataframe tbody tr th {\n",
       "        vertical-align: top;\n",
       "    }\n",
       "\n",
       "    .dataframe thead tr th {\n",
       "        text-align: left;\n",
       "    }\n",
       "</style>\n",
       "<table border=\"1\" class=\"dataframe\">\n",
       "  <thead>\n",
       "    <tr>\n",
       "      <th></th>\n",
       "      <th>top_k</th>\n",
       "      <th colspan=\"2\" halign=\"left\">Match Result</th>\n",
       "      <th colspan=\"2\" halign=\"left\">Score</th>\n",
       "    </tr>\n",
       "    <tr>\n",
       "      <th></th>\n",
       "      <th></th>\n",
       "      <th>sum</th>\n",
       "      <th>mean</th>\n",
       "      <th>sum</th>\n",
       "      <th>mean</th>\n",
       "    </tr>\n",
       "  </thead>\n",
       "  <tbody>\n",
       "    <tr>\n",
       "      <th>0</th>\n",
       "      <td>1</td>\n",
       "      <td>37</td>\n",
       "      <td>0.339450</td>\n",
       "      <td>39.553017</td>\n",
       "      <td>0.362872</td>\n",
       "    </tr>\n",
       "    <tr>\n",
       "      <th>1</th>\n",
       "      <td>2</td>\n",
       "      <td>41</td>\n",
       "      <td>0.376147</td>\n",
       "      <td>42.818005</td>\n",
       "      <td>0.392826</td>\n",
       "    </tr>\n",
       "    <tr>\n",
       "      <th>2</th>\n",
       "      <td>3</td>\n",
       "      <td>44</td>\n",
       "      <td>0.403670</td>\n",
       "      <td>45.343510</td>\n",
       "      <td>0.415996</td>\n",
       "    </tr>\n",
       "    <tr>\n",
       "      <th>3</th>\n",
       "      <td>5</td>\n",
       "      <td>47</td>\n",
       "      <td>0.431193</td>\n",
       "      <td>47.732659</td>\n",
       "      <td>0.437914</td>\n",
       "    </tr>\n",
       "  </tbody>\n",
       "</table>\n",
       "</div>"
      ],
      "text/plain": [
       "  top_k Match Result                Score          \n",
       "                 sum      mean        sum      mean\n",
       "0     1           37  0.339450  39.553017  0.362872\n",
       "1     2           41  0.376147  42.818005  0.392826\n",
       "2     3           44  0.403670  45.343510  0.415996\n",
       "3     5           47  0.431193  47.732659  0.437914"
      ]
     },
     "execution_count": 11,
     "metadata": {},
     "output_type": "execute_result"
    }
   ],
   "source": [
    "top_k_results.groupby('top_k')[['Match Result','Score']].agg(['sum','mean']).reset_index()"
   ]
  },
  {
   "cell_type": "markdown",
   "metadata": {},
   "source": [
    "#### General Results\n",
    "\n",
    "- As the `top_k` value increases, both the `Match Result` (mean) and `Score` (mean) improve. This trend indicates that retrieving more context chunks (i.e., increasing `top_k`) provides better performance in terms of both matching the correct answer and the overall score.\n",
    "- The `top_k = 1` configuration yields the lowest `Match Result` (mean = 0.339450) and `Score` (mean = 0.362872). This suggests that when the system retrieves only one chunk, it might miss out on additional relevant context that could help in generating a more accurate answer.\n",
    "- This makes intuitive sense because relying on a single chunk of context can be limiting. If the retrieved chunk lacks critical information or context, the model's ability to generate a correct answer diminishes.\n",
    "- As `top_k` increases to `2`, `3`, and especially `5`, the `Match Result` and `Score` steadily improve. This indicates that retrieving more chunks provides the model with richer context, leading to better-informed answer generation.\n",
    "- The steady improvement suggests that having access to multiple chunks allows the model to cross-reference information, resolve ambiguities, and leverage a broader set of data to produce more accurate answers.\n",
    "\n",
    "#### Possible intuition\n",
    "\n",
    "- With higher `top_k` values, the model has access to multiple chunks of context, which increases the likelihood of retrieving the most relevant information needed to answer the question accurately. This broader access to context can be especially beneficial in complex queries where the answer may be distributed across multiple sentences or paragraphs.\n",
    "- The results suggest that there is a diminishing return as `top_k` increases. While increasing `top_k` from 1 to 5 consistently improves performance, the rate of improvement might decrease beyond a certain point. This is because, after a certain number of chunks, additional chunks might add less value, especially if they are less relevant or redundant.\n",
    "- Higher `top_k` values effectively increase recall by ensuring that more potentially relevant chunks are considered. However, it also risks introducing irrelevant information that the model must filter out. The steady improvement in performance indicates that, in this case, the benefits of higher recall outweigh the potential downsides of reduced precision.\n",
    "\n",
    "#### Conclusions\n",
    "- The analysis suggests that increasing the `top_k` value from 1 to 5 improves the system's performance by providing more context for the model to generate accurate answers. The steady increase in both `Match Result` and `Score` indicates that the system benefits from retrieving multiple context chunks, which helps the model piece together a more comprehensive and accurate response.\n",
    "- However, while increasing `top_k` generally improves performance, it is important to consider the trade-off between computational cost and marginal gains. Beyond a certain point, further increases in `top_k` might offer minimal additional benefit while incurring greater computational overhead. Therefore, selecting an optimal `top_k` value should balance performance improvement with efficiency. In this analysis, `top_k = 5` appears to be the best choice within the tested range, providing the highest match results and scores."
   ]
  },
  {
   "cell_type": "markdown",
   "metadata": {},
   "source": []
  }
 ],
 "metadata": {
  "kernelspec": {
   "display_name": "vs_venv",
   "language": "python",
   "name": "python3"
  },
  "language_info": {
   "codemirror_mode": {
    "name": "ipython",
    "version": 3
   },
   "file_extension": ".py",
   "mimetype": "text/x-python",
   "name": "python",
   "nbconvert_exporter": "python",
   "pygments_lexer": "ipython3",
   "version": "3.10.11"
  }
 },
 "nbformat": 4,
 "nbformat_minor": 2
}
